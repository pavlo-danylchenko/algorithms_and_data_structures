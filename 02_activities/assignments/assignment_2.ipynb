{
 "cells": [
  {
   "cell_type": "markdown",
   "metadata": {},
   "source": [
    "# Practice Interview\n",
    "\n",
    "## Objective\n",
    "\n",
    "_*The partner assignment aims to provide participants with the opportunity to practice coding in an interview context. You will analyze your partner's Assignment 1. Moreover, code reviews are common practice in a software development team. This assignment should give you a taste of the code review process.*_\n",
    "\n",
    "## Group Size\n",
    "\n",
    "Each group should have 2 people. You will be assigned a partner\n",
    "\n",
    "## Part 1:\n",
    "\n",
    "You and your partner must share each other's Assignment 1 submission."
   ]
  },
  {
   "cell_type": "markdown",
   "metadata": {},
   "source": [
    "\n",
    "## Part 2:\n",
    "\n",
    "Create a Jupyter Notebook, create 6 of the following headings, and complete the following for your partner's assignment 1:\n",
    "\n",
    "-   Paraphrase the problem in your own words.\n"
   ]
  },
  {
   "cell_type": "code",
   "execution_count": null,
   "metadata": {},
   "outputs": [],
   "source": [
    "# Your answer here\n",
    "'''\n",
    "The task is to check binary tree for duplicates. If a tree has duplicates return value of the node nearest to the root of the tree, otherwise return '-1'.\n",
    "'''"
   ]
  },
  {
   "cell_type": "markdown",
   "metadata": {},
   "source": [
    "\n",
    "-   Create 1 new example that demonstrates you understand the problem. Trace/walkthrough 1 example that your partner made and explain it.\n"
   ]
  },
  {
   "cell_type": "markdown",
   "metadata": {},
   "source": [
    "## New Example №1\n",
    "![](./images/binary_tree_03.jpg)\n",
    "\n",
    "Output: 7"
   ]
  },
  {
   "cell_type": "code",
   "execution_count": null,
   "metadata": {},
   "outputs": [],
   "source": [
    "# Your answer here\n",
    "'''\n",
    "\n",
    "My partner, Sidra Zain, proposed two examples. Lets trace the one which has two groups of duplicates:\n",
    "\n",
    "Input: tree = [5, 3, 7, 3, 9, 8, 7]\n",
    "Output: 3\n",
    "\n",
    "As we can see, there are two groups of duplicates: (3, 3) and (7, 7).\n",
    "It is not clear from the list whether first 3 and 7 are siblings (on the same level of tree) or not.\n",
    "\n",
    "Lets assume: they are not. In this case second 3 appears earlier than second 7 does. This means second 3 has shorter path to the root than 7.\n",
    "\n",
    "There is a case when first 3 and 7 are on the second level of the tree and second 3 and 7 are on the third level of the tree.\n",
    "In this case both duplicates will have the same length of the path to the root and the answer will depend on whether you travers levels from left to right\n",
    "or from right to left.\n",
    "\n",
    "'''"
   ]
  },
  {
   "cell_type": "markdown",
   "metadata": {},
   "source": [
    "\n",
    "-   Copy the solution your partner wrote. \n"
   ]
  },
  {
   "cell_type": "code",
   "execution_count": 1,
   "metadata": {},
   "outputs": [],
   "source": [
    "# Your answer here\n",
    "from collections import deque\n",
    "\n",
    "# Definition for a binary tree node.\n",
    "class TreeNode(object):\n",
    "    def __init__(self, val = 0, left = None, right = None):\n",
    "        self.val = val\n",
    "        self.left = left\n",
    "        self.right = right\n",
    "\n",
    "def is_duplicate(root: TreeNode) -> int:\n",
    "    \n",
    "     # base case , if tree is empty there is no need to check for duplicates , return -1\n",
    "    if root is None:    \n",
    "        return -1\n",
    "    \n",
    "    # Initialize a queue for BFS  \n",
    "    queue = deque([root])\n",
    "\n",
    "    # set for checked values, this set will keep track of values we have seen so far.\n",
    "    checked_values = set()\n",
    "    \n",
    "    # Perform BFS traversal to check each node\n",
    "    while queue:\n",
    "        current_node = queue.popleft()\n",
    "\n",
    "        # If the node's value is already checked values set, it's a duplicate\n",
    "        if current_node.val in checked_values:\n",
    "            return current_node.val    \n",
    "        else: \n",
    "        # Add the node's value to the checked values set\n",
    "            checked_values.add(current_node.val)\n",
    "        \n",
    "        # Add left and right subtrees to the queue and check them for duplicates\n",
    "        for subtree in [current_node.left, current_node.right]:\n",
    "            if subtree:           # if subtree exists add it to the queue\n",
    "                queue.append(subtree)\n",
    "        \n",
    "    # If no duplicate is found, return -1\n",
    "    return -1"
   ]
  },
  {
   "cell_type": "code",
   "execution_count": 2,
   "metadata": {},
   "outputs": [
    {
     "data": {
      "text/plain": [
       "-1"
      ]
     },
     "execution_count": 2,
     "metadata": {},
     "output_type": "execute_result"
    }
   ],
   "source": [
    "# Check for None value\n",
    "root = None\n",
    "is_duplicate(root)"
   ]
  },
  {
   "cell_type": "code",
   "execution_count": 3,
   "metadata": {},
   "outputs": [
    {
     "data": {
      "text/plain": [
       "7"
      ]
     },
     "execution_count": 3,
     "metadata": {},
     "output_type": "execute_result"
    }
   ],
   "source": [
    "# Check my own example\n",
    "root = TreeNode(1)\n",
    "root.left = TreeNode(9)\n",
    "root.right = TreeNode(2)\n",
    "root.left.left = TreeNode(8)\n",
    "root.left.right = TreeNode(7)\n",
    "root.right.left = TreeNode(6)\n",
    "root.left.right.right = TreeNode(3)\n",
    "root.left.right.right.left = TreeNode(7)\n",
    "root.left.right.right.right = TreeNode(9)\n",
    "is_duplicate(root)\n",
    "\n",
    "# Expected output: 7"
   ]
  },
  {
   "cell_type": "markdown",
   "metadata": {},
   "source": [
    "\n",
    "-   Explain why their solution works in your own words.\n"
   ]
  },
  {
   "cell_type": "code",
   "execution_count": null,
   "metadata": {},
   "outputs": [],
   "source": [
    "# Your answer here\n",
    "'''\n",
    "\n",
    "Sidra Zain proposes to use Breadth-First Search method which is good sinse it ensures traversal trees level by level\n",
    "and the first appearance of a duplicate element will guarantee the shortest path to this element and we do not need to search for more duplicates.\n",
    "\n",
    "A queue is initialized with the root node to perform BFS traversal.\n",
    "A set is used to keep track of the values seen so far. This helps efficiently checking for duplicates (set lookup is O(1)).\n",
    "\n",
    "At each iteration:\n",
    "    1. current_node is dequeued.\n",
    "    2. The node's value is checked against checked_values.\n",
    "    3. If the current node’s value is already in checked_values, a duplicate is found, and the function immediately returns the duplicate value.\n",
    "       Otherwise, the value is added to the set.\n",
    "    4. The left and right children of the current node are added to the queue for further examination.\n",
    "    5. If the loop completes without finding duplicates, the function returns -1.\n",
    "\n",
    "'''"
   ]
  },
  {
   "cell_type": "markdown",
   "metadata": {},
   "source": [
    "\n",
    "-   Explain the problem’s time and space complexity in your own words.\n"
   ]
  },
  {
   "cell_type": "code",
   "execution_count": null,
   "metadata": {},
   "outputs": [],
   "source": [
    "# Your answer here\n",
    "'''\n",
    "TIME COMPLEXITY: O(n) since in the worst case we need to check each node of the tree and BFS enusres we travers each node once.\n",
    "\n",
    "SPACE COMPLEXITY: O(n) since in the worst case SET will contain all tree nodes values.\n",
    "'''"
   ]
  },
  {
   "cell_type": "markdown",
   "metadata": {},
   "source": [
    "\n",
    "-   Critique your partner's solution, including explanation, and if there is anything that should be adjusted.\n"
   ]
  },
  {
   "cell_type": "code",
   "execution_count": null,
   "metadata": {},
   "outputs": [],
   "source": [
    "# Your answer here\n",
    "'''\n",
    "The code provided is functional and adheres to good programming practices in several aspects.\n",
    "It implements Breadth-First Search (BFS) traversal efficiently and makes good use of Python's deque for queue operations\n",
    "and set for tracking duplicates.\n",
    "\n",
    "Strengths:\n",
    "        1. Using a set for duplicate detection ensures O(1) average time complexity for membership checks, which is ideal for this task.\n",
    "        2. The BFS traversal approach systematically examines nodes level by level,\n",
    "           ensuring the first duplicate found is at the shallowest level of the tree.\n",
    "        3. The function terminates as soon as a duplicate is found, saving unnecessary computations.\n",
    "'''"
   ]
  },
  {
   "cell_type": "markdown",
   "metadata": {},
   "source": [
    "\n",
    "## Part 3:\n",
    "\n",
    "Please write a 200 word reflection documenting your process from assignment 1, and your presentation and review experience with your partner at the bottom of the Jupyter Notebook under a new heading \"Reflection.\" Again, export this Notebook as pdf.\n"
   ]
  },
  {
   "cell_type": "markdown",
   "metadata": {},
   "source": [
    "### Reflection"
   ]
  },
  {
   "cell_type": "code",
   "execution_count": null,
   "metadata": {},
   "outputs": [],
   "source": [
    "# Your answer here\n",
    "'''\n",
    "This assignment provided an opportunity to analyze, critique, and improve a given code solution for detecting duplicate values in a binary tree.\n",
    "The process began by thoroughly understanding the original code, including its functionality, structure, and logic.\n",
    "I appreciated the use of Breadth-First Search (BFS) for level-order traversal, which aligns well with the problem's requirements.\n",
    "The code's use of Python's deque for efficient queue operations and set for tracking seen values stood out as strong design choices.\n",
    "\n",
    "This exercise reinforced the importance of balancing functionality, efficiency, and readability in coding.\n",
    "Overall, the review process was insightful, fostering a deeper understanding of algorithm design and critique methodologies.\n",
    "It was satisfying to improve the solution while ensuring its correctness and robustness.\n",
    "'''"
   ]
  },
  {
   "cell_type": "markdown",
   "metadata": {},
   "source": [
    "\n",
    "## Evaluation Criteria\n",
    "\n",
    "We are looking for the similar points as Assignment 1\n",
    "\n",
    "-   Problem is accurately stated\n",
    "\n",
    "-   New example is correct and easily understandable\n",
    "\n",
    "-   Correctness, time, and space complexity of the coding solution\n",
    "\n",
    "-   Clarity in explaining why the solution works, its time and space complexity\n",
    "\n",
    "-   Quality of critique of your partner's assignment, if necessary\n"
   ]
  },
  {
   "cell_type": "markdown",
   "metadata": {},
   "source": [
    "## Submission Information\n",
    "\n",
    "🚨 **Please review our [Assignment Submission Guide](https://github.com/UofT-DSI/onboarding/blob/main/onboarding_documents/submissions.md)** 🚨 for detailed instructions on how to format, branch, and submit your work. Following these guidelines is crucial for your submissions to be evaluated correctly.\n",
    "\n",
    "### Submission Parameters:\n",
    "* Submission Due Date: `HH:MM AM/PM - DD/MM/YYYY`\n",
    "* The branch name for your repo should be: `assignment-2`\n",
    "* What to submit for this assignment:\n",
    "    * This Jupyter Notebook (assignment_2.ipynb) should be populated and should be the only change in your pull request.\n",
    "* What the pull request link should look like for this assignment: `https://github.com/<your_github_username>/algorithms_and_data_structures/pull/<pr_id>`\n",
    "    * Open a private window in your browser. Copy and paste the link to your pull request into the address bar. Make sure you can see your pull request properly. This helps the technical facilitator and learning support staff review your submission easily.\n",
    "\n",
    "Checklist:\n",
    "- [ ] Created a branch with the correct naming convention.\n",
    "- [ ] Ensured that the repository is public.\n",
    "- [ ] Reviewed the PR description guidelines and adhered to them.\n",
    "- [ ] Verify that the link is accessible in a private browser window.\n",
    "\n",
    "If you encounter any difficulties or have questions, please don't hesitate to reach out to our team via our Slack at `#cohort-3-help`. Our Technical Facilitators and Learning Support staff are here to help you navigate any challenges.\n"
   ]
  }
 ],
 "metadata": {
  "kernelspec": {
   "display_name": "dsi_participant",
   "language": "python",
   "name": "python3"
  },
  "language_info": {
   "codemirror_mode": {
    "name": "ipython",
    "version": 3
   },
   "file_extension": ".py",
   "mimetype": "text/x-python",
   "name": "python",
   "nbconvert_exporter": "python",
   "pygments_lexer": "ipython3",
   "version": "3.9.15"
  }
 },
 "nbformat": 4,
 "nbformat_minor": 2
}
