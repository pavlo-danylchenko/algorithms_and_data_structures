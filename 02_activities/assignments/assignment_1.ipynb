{
 "cells": [
  {
   "cell_type": "markdown",
   "metadata": {},
   "source": [
    "# Coding Problems\n",
    "\n",
    "## Objective\n",
    "\n",
    "This assignment aims to demonstrate how to study a data structures or algorithms question in depth to prepare for an industry coding interview. Leetcode is a popular coding practice site that many use to practice for technical interviews. Like behavioral interviews, it's important to practice and keep your skills sharp.\n",
    "\n",
    "## Group Size\n",
    "\n",
    "Please complete this individually.\n",
    "\n",
    "## Part 1:\n",
    "\n",
    "_*You will be assigned one of three problems based of your first name. Execute the code below, and that will tell you your assigned problem. Include the output as part of your submission (do not clear the output). The problems are based-off problems from Leetcode.*_\n"
   ]
  },
  {
   "cell_type": "code",
   "execution_count": 2,
   "metadata": {},
   "outputs": [
    {
     "name": "stdout",
     "output_type": "stream",
     "text": [
      "2\n"
     ]
    }
   ],
   "source": [
    "print((hash('Pavlo') % 3) + 1)"
   ]
  },
  {
   "cell_type": "markdown",
   "metadata": {},
   "source": [
    "<details>\n",
    "  <summary>Question 1</summary>\n",
    "\n",
    "  # Question One: Check Duplicates in Tree\n",
    "\n",
    "  Given the `root` of a binary tree, check whether it is contains a duplicate value. If a duplicate exists, return the duplicate value. If there are multiple duplicates, return the one with the closest distance to the root. If no duplicate exists, return -1.\n",
    "\n",
    "  ## Examples\n",
    "\n",
    "  ### Example 1\n",
    "\n",
    "  ![](./images/q1_ex1.png)\n",
    "\n",
    "  Input: `root = [1, 2, 2, 3, 5, 6, 7]` *What traversal method is this?*\n",
    "\n",
    "  Output: 2\n",
    "\n",
    "  ### Example 2\n",
    "\n",
    "  ![](./images/q1_ex2.png)\n",
    "\n",
    "  Input: `root = [1, 10, 2, 3, 10, 12, 12]`\n",
    "\n",
    "  Output: 10\n",
    "\n",
    "  ### Example 3\n",
    "\n",
    "  ![](./images/q1_ex3.png)\n",
    "\n",
    "  Input: `root = [10, 9, 8, 7]`\n",
    "\n",
    "  Output: -1\n",
    "\n",
    "</details>\n",
    "\n",
    "#### Starter Code for Question 1"
   ]
  },
  {
   "cell_type": "code",
   "execution_count": null,
   "metadata": {},
   "outputs": [],
   "source": [
    "# Definition for a binary tree node.\n",
    "# class TreeNode(object):\n",
    "#     def __init__(self, val = 0, left = None, right = None):\n",
    "#         self.val = val\n",
    "#         self.left = left\n",
    "#         self.right = right\n",
    "def is_duplicate(root: TreeNode) -> int:\n",
    "  # TODO"
   ]
  },
  {
   "cell_type": "markdown",
   "metadata": {},
   "source": [
    "<details>\n",
    "  <summary>Question 2</summary>\n",
    "\n",
    "  # Question Two: Path to Leaves\n",
    "\n",
    "  Given the `root` of a binary tree, return all root to leaf paths in any order.\n",
    "\n",
    "  ## Examples\n",
    "\n",
    "  ### Example 1\n",
    "\n",
    "  ![](./images/q1_ex1.png)\n",
    "\n",
    "  Input: `root = [1, 2, 2, 3, 5, 6, 7]` *What traversal method is this?*\n",
    "\n",
    "  Output: [[1, 2, 3], [1, 2, 5], [1, 2, 6], [1, 2, 7]]\n",
    "\n",
    "  ### Example 2\n",
    "\n",
    "  ![](./images/q1_ex3.png)\n",
    "\n",
    "  Input: `root = [10, 9, 7, 8]`\n",
    "\n",
    "  Output: [[10, 7], [10, 9, 8]]\n",
    "\n",
    "</details>\n",
    "\n",
    "#### Starter Code for Question 2"
   ]
  },
  {
   "cell_type": "code",
   "execution_count": 4,
   "metadata": {},
   "outputs": [
    {
     "ename": "IndentationError",
     "evalue": "expected an indented block (1667981786.py, line 8)",
     "output_type": "error",
     "traceback": [
      "\u001b[1;36m  Cell \u001b[1;32mIn[4], line 8\u001b[1;36m\u001b[0m\n\u001b[1;33m    # TODO\u001b[0m\n\u001b[1;37m          ^\u001b[0m\n\u001b[1;31mIndentationError\u001b[0m\u001b[1;31m:\u001b[0m expected an indented block\n"
     ]
    }
   ],
   "source": [
    "# Definition for a binary tree node.\n",
    "# class TreeNode(object):\n",
    "#     def __init__(self, val = 0, left = None, right = None):\n",
    "#         self.val = val\n",
    "#         self.left = left\n",
    "#         self.right = right\n",
    "def bt_path(root: TreeNode) -> List[List[int]]:\n",
    "  # TODO"
   ]
  },
  {
   "cell_type": "markdown",
   "metadata": {},
   "source": [
    "<details>\n",
    "  <summary>Question 3</summary>\n",
    "\n",
    "  # Question Three: Missing Number in Range\n",
    " \n",
    "  You are given a list containing `n` integers in the range `[0, n]`. Return a list of numbers that are missing from the range `[0, n]` of the array. If there is no missing number, return -1. Note, all the integers in the list may not be unique.\n",
    "  \n",
    "  ## Examples\n",
    "\n",
    "  ### Example 1\n",
    "\n",
    "  Input: `lst = [0, 2]`\n",
    "\n",
    "  Output: [1]\n",
    "\n",
    "  ### Example 2\n",
    "\n",
    "  Input: `lst = [5, 0, 1]`\n",
    "\n",
    "  Output: [2, 3, 4]\n",
    "\n",
    "  ### Example 3\n",
    "\n",
    "  Input: `lst = [6, 8, 2, 3, 5, 7, 0, 1, 10]`\n",
    "\n",
    "  Output: [4, 9]\n",
    "\n",
    "</details>\n",
    "\n",
    "#### Starter Code for Question 3\n"
   ]
  },
  {
   "cell_type": "code",
   "execution_count": null,
   "metadata": {},
   "outputs": [],
   "source": [
    "def missing_num(nums: List) -> int:\n",
    "  # TODO"
   ]
  },
  {
   "cell_type": "markdown",
   "metadata": {},
   "source": [
    "\n",
    "## Part 2:\n",
    "\n",
    "-   Paraphrase the problem in your own words\n"
   ]
  },
  {
   "cell_type": "code",
   "execution_count": null,
   "metadata": {},
   "outputs": [],
   "source": [
    "# Your answer here\n",
    "'''\n",
    "In other words this task is simalar to one when you search for a file on a Hard Drive\n",
    "and want to see all full paths to files you are interested in starting from drive C\n",
    "or root folder \"/\" till the file itself.\n",
    "'''"
   ]
  },
  {
   "cell_type": "markdown",
   "metadata": {},
   "source": [
    "- In this .ipynb file, there are examples that illustrate how the code should work (the examples provided above). Create 2 new examples for the question you have been assigned, that demonstrate you understand the problem. For question 1 and 2, you don't need to create the tree demonstration, just the input and output.\n"
   ]
  },
  {
   "cell_type": "markdown",
   "metadata": {},
   "source": [
    "## New Example №1\n",
    "![](./images/binary_tree_01.jpg)\n",
    "\n",
    "Output: [[1, 9, 8], [1, 9, 7], [1, 2, 6], [1, 2, 3, 5], [1, 2, 3, 4]]\n",
    "\n",
    "## New Example №2\n",
    "![](./images/binary_tree_02.jpg)\n",
    "\n",
    "Output: [[1, 9, 8], [1, 9, 7, 3, 5], [1, 9, 7, 3, 4], [1, 2, 6]]"
   ]
  },
  {
   "cell_type": "code",
   "execution_count": null,
   "metadata": {},
   "outputs": [],
   "source": [
    "# Your answer here\n",
    "'''\n",
    "The output for the first new Example should be:\n",
    "Output: [[1, 9, 8], [1, 9, 7], [1, 2, 6], [1, 2, 3, 5], [1, 2, 3, 4]]\n",
    "\n",
    "The output for the second new Example should be:\n",
    "\n",
    "Output: [[1, 9, 8], [1, 9, 7, 3, 5], [1, 9, 7, 3, 4], [1, 2, 6]]\n",
    "'''"
   ]
  },
  {
   "cell_type": "markdown",
   "metadata": {},
   "source": [
    "\n",
    "-   Code the solution to your assigned problem in Python (code chunk). Try to find the best time and space complexity solution!\n"
   ]
  },
  {
   "cell_type": "code",
   "execution_count": 1,
   "metadata": {},
   "outputs": [],
   "source": [
    "# Your answer here\n",
    "# Definition for a binary tree node.\n",
    "class TreeNode(object):\n",
    "  def __init__(self, val = 0, left = None, right = None):\n",
    "    self.val = val\n",
    "    self.left = left\n",
    "    self.right = right\n",
    "\n",
    "def print_preorder(root):\n",
    "  if root:\n",
    "    print(root.val, end = \" \")\n",
    "    print_preorder(root.left)\n",
    "    print_preorder(root.right)\n",
    "\n",
    "def bt_path(root: TreeNode):\n",
    "  all_paths = []\n",
    "  bt_path_helper(root, all_paths, [])\n",
    "  return all_paths\n",
    "\n",
    "def bt_path_helper(root, lst, current_path):\n",
    "    current_path = current_path.copy()\n",
    "    if root:\n",
    "      current_path.append(root.val)\n",
    "      if not root.left and not root.right:\n",
    "        lst.append(current_path)\n",
    "      else:\n",
    "        bt_path_helper(root.left, lst, current_path)\n",
    "        bt_path_helper(root.right, lst, current_path)"
   ]
  },
  {
   "cell_type": "code",
   "execution_count": 2,
   "metadata": {},
   "outputs": [],
   "source": [
    "# Test the inintial Example №1\n",
    "root = TreeNode(1, TreeNode(2), TreeNode(2))\n",
    "root.left.left = TreeNode(3)\n",
    "root.left.right = TreeNode(5)\n",
    "root.right.left = TreeNode(6)\n",
    "root.right.right = TreeNode(7)\n",
    "\n",
    "# res = [\n",
    "#     [1, 2, 3],\n",
    "#     [1, 2, 5],\n",
    "#     [1, 2, 6],\n",
    "#     [1, 2, 7]\n",
    "# ]\n"
   ]
  },
  {
   "cell_type": "code",
   "execution_count": 3,
   "metadata": {},
   "outputs": [
    {
     "data": {
      "text/plain": [
       "[[1, 2, 3], [1, 2, 5], [1, 2, 6], [1, 2, 7]]"
      ]
     },
     "execution_count": 3,
     "metadata": {},
     "output_type": "execute_result"
    }
   ],
   "source": [
    "bt_path(root)"
   ]
  },
  {
   "cell_type": "code",
   "execution_count": 4,
   "metadata": {},
   "outputs": [
    {
     "data": {
      "text/plain": [
       "[[10, 9, 8], [10, 7]]"
      ]
     },
     "execution_count": 4,
     "metadata": {},
     "output_type": "execute_result"
    }
   ],
   "source": [
    "# Test the inintial Example №2\n",
    "root_01 = TreeNode(10, TreeNode(9), TreeNode(7))\n",
    "root_01.left.left = TreeNode(8)\n",
    "\n",
    "bt_path(root_01)\n",
    "\n",
    "# res = [\n",
    "#     [10, 9, 8],\n",
    "#     [10, 7]\n",
    "# ]"
   ]
  },
  {
   "cell_type": "code",
   "execution_count": 5,
   "metadata": {},
   "outputs": [
    {
     "data": {
      "text/plain": [
       "[[1, 9, 8], [1, 9, 7], [1, 2, 6], [1, 2, 3, 5], [1, 2, 3, 4]]"
      ]
     },
     "execution_count": 5,
     "metadata": {},
     "output_type": "execute_result"
    }
   ],
   "source": [
    "# Test the FIRST New Example\n",
    "root_02 = TreeNode(1, TreeNode(9), TreeNode(2))\n",
    "root_02.left.left = TreeNode(8)\n",
    "root_02.left.right = TreeNode(7)\n",
    "root_02.right.left = TreeNode(6)\n",
    "root_02.right.right = TreeNode(3)\n",
    "root_02.right.right.left = TreeNode(5)\n",
    "root_02.right.right.right = TreeNode(4)\n",
    "\n",
    "bt_path(root_02)\n",
    "\n",
    "# EXPECTED OUTPUT\n",
    "# [[1, 9, 8], [1, 9, 7], [1, 2, 6], [1, 2, 3, 5], [1, 2, 3, 4]]"
   ]
  },
  {
   "cell_type": "code",
   "execution_count": 6,
   "metadata": {},
   "outputs": [
    {
     "data": {
      "text/plain": [
       "[[1, 9, 8], [1, 9, 7, 3, 5], [1, 9, 7, 3, 4], [1, 2, 6]]"
      ]
     },
     "execution_count": 6,
     "metadata": {},
     "output_type": "execute_result"
    }
   ],
   "source": [
    "# Test the SECOND New Example\n",
    "root_03 = TreeNode(1, TreeNode(9), TreeNode(2))\n",
    "root_03.left.left = TreeNode(8)\n",
    "root_03.left.right = TreeNode(7)\n",
    "root_03.right.left = TreeNode(6)\n",
    "root_03.left.right.right = TreeNode(3)\n",
    "root_03.left.right.right.left = TreeNode(5)\n",
    "root_03.left.right.right.right = TreeNode(4)\n",
    "\n",
    "bt_path(root_03)\n",
    "\n",
    "# EXPECTED OUTPUT\n",
    "# [[1, 9, 8], [1, 9, 7, 3, 5], [1, 9, 7, 3, 4], [1, 2, 6]]"
   ]
  },
  {
   "cell_type": "markdown",
   "metadata": {},
   "source": [
    "\n",
    "-   Explain why your solution works\n"
   ]
  },
  {
   "cell_type": "code",
   "execution_count": null,
   "metadata": {},
   "outputs": [],
   "source": [
    "# Your answer here\n",
    "'''\n",
    "To solve this problem, I chose the preorder method of traversing a binary tree\n",
    "because we need to record the fact of getting into a tree node as we get into this node,\n",
    "and not after getting into one or both of its children.\n",
    "\n",
    "To get a list of paths, I use a recursive helper function that, in addition to the tree root,\n",
    "accepts a general list of paths and the current path to the current node.\n",
    "\n",
    "With each call to the function, we copy the path, check whether the current node is valid,\n",
    "if so, we add its value to the list of the current path.\n",
    "\n",
    "In the next step, we check whether the current node has children,\n",
    "if not, then we have finished building the path to the tree leaf and add the current path to the list of all paths.\n",
    "And so on until we traverse the entire tree.\n",
    "'''"
   ]
  },
  {
   "cell_type": "markdown",
   "metadata": {},
   "source": [
    "\n",
    "-   Explain the problem’s time and space complexity\n"
   ]
  },
  {
   "cell_type": "code",
   "execution_count": null,
   "metadata": {},
   "outputs": [],
   "source": [
    "# Your answer here\n",
    "'''\n",
    "Time Complexity:\n",
    "The function traverses each node in the binary tree exactly once.\n",
    "If there are n nodes in the tree, the traversal takes O(n).\n",
    "\n",
    "Space Complexity:\n",
    "Space complaxity depends on the depth of the recursion which is the height of the tree O(h) = O(log(n)) for balanced Binary Trees.\n",
    "But in the worst case when the tree is not balanced (it is our case) the Space Complaxity is O(n).\n",
    "In additio to that we store list of paths. In each recursion call we add one Item to the list and each list is stored separatetly in memory.\n",
    "That  gives us an arithmetic progression. In the worst case (the Tree is not balanced) the sum of all elements of the list stored in memory will be: (1+n) * n / 2 = (n + n^2) / 2.\n",
    "Which is O(n^2) complexity.\n",
    "So the overall Space Complexity is O(n^2).\n",
    "\n",
    "'''"
   ]
  },
  {
   "cell_type": "markdown",
   "metadata": {},
   "source": [
    "\n",
    "-   Explain the thinking to an alternative solution (no coding required, but a classmate reading this should be able to code it up based off your text)\n"
   ]
  },
  {
   "cell_type": "code",
   "execution_count": null,
   "metadata": {},
   "outputs": [],
   "source": [
    "# Your answer here\n",
    "'''\n",
    "I was thinking of an alternative solution where I do not copy the list with the each call of recusrion function but I was not successful.\n",
    "An alternative approach was to pop() last element from the current list once we reached the leaf\n",
    "and added current path to this leaf tio the resulting list. But I ended up with the empty list.\n",
    "\n",
    "Here is the Description of an alternatve solution:\n",
    "\n",
    "To solve this problem, I chose the preorder method of traversing a binary tree\n",
    "because we need to record the fact of getting into a tree node as we get into this node,\n",
    "and not after getting into one or both of its children.\n",
    "\n",
    "To get a list of paths, I use a recursive helper function that, in addition to the tree root,\n",
    "accepts a resulting list of paths and the current path to the current node.\n",
    "\n",
    "With each call to the function we check whether the current node is valid,\n",
    "if so, we add its value to the list of the current path.\n",
    "\n",
    "In the next step, we check whether the current node has children,\n",
    "if not:\n",
    "    1. Then we have finished building the path to the tree leaf and add the current path to the list of all paths.\n",
    "    2. Before returning to the next Tree Node (parent of the leaf) we need to POP() the last element from the Current list so that\n",
    "       parent could add his another child's value to the path jsut after himself (parent).\n",
    "else (Tree Node has children):\n",
    "    1. Call recursive fuction bt_path_helper() for left and right children.\n",
    "\n",
    "And so on until we traverse the entire tree.\n",
    "'''"
   ]
  },
  {
   "cell_type": "markdown",
   "metadata": {},
   "source": [
    "## Evaluation Criteria\n",
    "\n",
    "-   Problem is accurately stated\n",
    "\n",
    "-   Two examples are correct and easily understandable\n",
    "\n",
    "-   Correctness, time, and space complexity of the coding solution\n",
    "\n",
    "-   Clarity in explaining why the solution works, its time and space complexity\n",
    "\n",
    "-   Clarity in the proposal to the alternative solution"
   ]
  },
  {
   "cell_type": "markdown",
   "metadata": {},
   "source": [
    "## Submission Information\n",
    "\n",
    "🚨 **Please review our [Assignment Submission Guide](https://github.com/UofT-DSI/onboarding/blob/main/onboarding_documents/submissions.md)** 🚨 for detailed instructions on how to format, branch, and submit your work. Following these guidelines is crucial for your submissions to be evaluated correctly.\n",
    "\n",
    "### Submission Parameters:\n",
    "* Submission Due Date: `HH:MM AM/PM - DD/MM/YYYY`\n",
    "* The branch name for your repo should be: `assignment-1`\n",
    "* What to submit for this assignment:\n",
    "    * This Jupyter Notebook (assignment_1.ipynb) should be populated and should be the only change in your pull request.\n",
    "* What the pull request link should look like for this assignment: `https://github.com/<your_github_username>/algorithms_and_data_structures/pull/<pr_id>`\n",
    "    * Open a private window in your browser. Copy and paste the link to your pull request into the address bar. Make sure you can see your pull request properly. This helps the technical facilitator and learning support staff review your submission easily.\n",
    "\n",
    "Checklist:\n",
    "- [ ] Create a branch called `assignment-1`.\n",
    "- [ ] Ensure that the repository is public.\n",
    "- [ ] Review [the PR description guidelines](https://github.com/UofT-DSI/onboarding/blob/main/onboarding_documents/submissions.md#guidelines-for-pull-request-descriptions) and adhere to them.\n",
    "- [ ] Verify that the link is accessible in a private browser window.\n",
    "\n",
    "If you encounter any difficulties or have questions, please don't hesitate to reach out to our team via our Slack at `#cohort-3-help`. Our Technical Facilitators and Learning Support staff are here to help you navigate any challenges."
   ]
  }
 ],
 "metadata": {
  "kernelspec": {
   "display_name": "dsi_participant",
   "language": "python",
   "name": "python3"
  },
  "language_info": {
   "codemirror_mode": {
    "name": "ipython",
    "version": 3
   },
   "file_extension": ".py",
   "mimetype": "text/x-python",
   "name": "python",
   "nbconvert_exporter": "python",
   "pygments_lexer": "ipython3",
   "version": "3.9.15"
  }
 },
 "nbformat": 4,
 "nbformat_minor": 2
}
